{
 "cells": [
  {
   "cell_type": "code",
   "execution_count": 3,
   "id": "0690a647-63f3-47a8-8951-500755a016a6",
   "metadata": {},
   "outputs": [],
   "source": [
    "import pandas as pd\n",
    "import numpy as np\n",
    "from pathlib import Path\n",
    "from xgboost import XGBClassifier\n",
    "from sklearn.model_selection import train_test_split\n",
    "from sklearn.metrics import roc_auc_score, classification_report"
   ]
  },
  {
   "cell_type": "code",
   "execution_count": 70,
   "id": "94118f13-67c5-4078-8660-dda65086af61",
   "metadata": {},
   "outputs": [
    {
     "data": {
      "text/html": [
       "<div>\n",
       "<style scoped>\n",
       "    .dataframe tbody tr th:only-of-type {\n",
       "        vertical-align: middle;\n",
       "    }\n",
       "\n",
       "    .dataframe tbody tr th {\n",
       "        vertical-align: top;\n",
       "    }\n",
       "\n",
       "    .dataframe thead th {\n",
       "        text-align: right;\n",
       "    }\n",
       "</style>\n",
       "<table border=\"1\" class=\"dataframe\">\n",
       "  <thead>\n",
       "    <tr style=\"text-align: right;\">\n",
       "      <th></th>\n",
       "      <th>customer_id</th>\n",
       "      <th>credit_lines_outstanding</th>\n",
       "      <th>loan_amt_outstanding</th>\n",
       "      <th>total_debt_outstanding</th>\n",
       "      <th>income</th>\n",
       "      <th>years_employed</th>\n",
       "      <th>fico_score</th>\n",
       "      <th>default</th>\n",
       "    </tr>\n",
       "  </thead>\n",
       "  <tbody>\n",
       "    <tr>\n",
       "      <th>0</th>\n",
       "      <td>8153374</td>\n",
       "      <td>0</td>\n",
       "      <td>5221.545193</td>\n",
       "      <td>3915.471226</td>\n",
       "      <td>78039.38546</td>\n",
       "      <td>5</td>\n",
       "      <td>605</td>\n",
       "      <td>0</td>\n",
       "    </tr>\n",
       "    <tr>\n",
       "      <th>1</th>\n",
       "      <td>7442532</td>\n",
       "      <td>5</td>\n",
       "      <td>1958.928726</td>\n",
       "      <td>8228.752520</td>\n",
       "      <td>26648.43525</td>\n",
       "      <td>2</td>\n",
       "      <td>572</td>\n",
       "      <td>1</td>\n",
       "    </tr>\n",
       "    <tr>\n",
       "      <th>2</th>\n",
       "      <td>2256073</td>\n",
       "      <td>0</td>\n",
       "      <td>3363.009259</td>\n",
       "      <td>2027.830850</td>\n",
       "      <td>65866.71246</td>\n",
       "      <td>4</td>\n",
       "      <td>602</td>\n",
       "      <td>0</td>\n",
       "    </tr>\n",
       "    <tr>\n",
       "      <th>3</th>\n",
       "      <td>4885975</td>\n",
       "      <td>0</td>\n",
       "      <td>4766.648001</td>\n",
       "      <td>2501.730397</td>\n",
       "      <td>74356.88347</td>\n",
       "      <td>5</td>\n",
       "      <td>612</td>\n",
       "      <td>0</td>\n",
       "    </tr>\n",
       "    <tr>\n",
       "      <th>4</th>\n",
       "      <td>4700614</td>\n",
       "      <td>1</td>\n",
       "      <td>1345.827718</td>\n",
       "      <td>1768.826187</td>\n",
       "      <td>23448.32631</td>\n",
       "      <td>6</td>\n",
       "      <td>631</td>\n",
       "      <td>0</td>\n",
       "    </tr>\n",
       "  </tbody>\n",
       "</table>\n",
       "</div>"
      ],
      "text/plain": [
       "   customer_id  credit_lines_outstanding  loan_amt_outstanding  \\\n",
       "0      8153374                         0           5221.545193   \n",
       "1      7442532                         5           1958.928726   \n",
       "2      2256073                         0           3363.009259   \n",
       "3      4885975                         0           4766.648001   \n",
       "4      4700614                         1           1345.827718   \n",
       "\n",
       "   total_debt_outstanding       income  years_employed  fico_score  default  \n",
       "0             3915.471226  78039.38546               5         605        0  \n",
       "1             8228.752520  26648.43525               2         572        1  \n",
       "2             2027.830850  65866.71246               4         602        0  \n",
       "3             2501.730397  74356.88347               5         612        0  \n",
       "4             1768.826187  23448.32631               6         631        0  "
      ]
     },
     "execution_count": 70,
     "metadata": {},
     "output_type": "execute_result"
    }
   ],
   "source": [
    "file = Path('Task 3 and 4_Loan_Data.csv')\n",
    "df = pd.read_csv(file)\n",
    "df.head()"
   ]
  },
  {
   "cell_type": "code",
   "execution_count": 71,
   "id": "033b05e3-dcef-42e0-8c9b-e1e718181e67",
   "metadata": {},
   "outputs": [],
   "source": [
    "#Let engenieer some features \n",
    "df.columns = ['customer_id', 'credit_lines_outstanding', 'loan_amt_outstanding',\n",
    "             'total_debt_outstanding','income','years_employed','fico_score','default']\n",
    "# Debt-to-Income Ratio \n",
    "df['debt_to_income'] = df['total_debt_outstanding'] / df['income']\n",
    "# Interpretation: If DTI > 0.43, very risky (standard threshold)\n",
    "\n",
    "# Loan-to-Income Ratio\n",
    "df['loan_to_income'] = df['loan_amt_outstanding'] / df['income']\n",
    "\n",
    "# Credit Card Debt \n",
    "df['credit_card_debt'] = df['total_debt_outstanding'] - df['loan_amt_outstanding']\n",
    "\n",
    "# Average Debt per Credit Line\n",
    "df['avg_debt_per_line'] = df['total_debt_outstanding'] / (df['credit_lines_outstanding'] + 1) # +1 to avoid division by zero\n",
    "\n",
    "\n",
    "# FICO Score Categories will help XGBoost learn threasholds\n",
    "df['fico_category'] = pd.cut(df['fico_score'], \n",
    "                              bins=[0, 579, 669, 739, 799, 850],\n",
    "                              labels=['Very Poor', 'Fair', 'Good', 'Very Good', 'Exceptional'])\n",
    "\n",
    "# Employment Stability Flag (usualy researches consider the threshold to be between 3-5 years which depends case by case)\n",
    "df['stable_employment'] = (df['years_employed'] >= 3).astype(int)\n",
    "\n",
    "# 7. High Debt Flag (High DTI considered to be >43%)\n",
    "df['high_debt_burden'] = (df['debt_to_income'] > 0.43).astype(int)\n",
    "\n",
    "# 8. Income Bracket (depends on the country but as it is a simulation the best estimate would be relative to the data set)\n",
    "df['income_bracket'] = pd.qcut(df['income'], q=4, labels=['Low', 'Medium', 'High', 'Very High'])\n"
   ]
  },
  {
   "cell_type": "code",
   "execution_count": 72,
   "id": "e4e6f977-0044-4284-a27c-59b97dd3b508",
   "metadata": {},
   "outputs": [
    {
     "data": {
      "text/plain": [
       "(10000, 23)"
      ]
     },
     "execution_count": 72,
     "metadata": {},
     "output_type": "execute_result"
    }
   ],
   "source": [
    "df = pd.get_dummies(df, columns = ['fico_category','income_bracket'])\n",
    "df.shape"
   ]
  },
  {
   "cell_type": "code",
   "execution_count": 73,
   "id": "b278ef9f-373b-4c3c-8a5a-5967f3d89d42",
   "metadata": {},
   "outputs": [
    {
     "data": {
      "text/plain": [
       "Index(['customer_id', 'credit_lines_outstanding', 'loan_amt_outstanding',\n",
       "       'total_debt_outstanding', 'income', 'years_employed', 'fico_score',\n",
       "       'default', 'debt_to_income', 'loan_to_income', 'credit_card_debt',\n",
       "       'avg_debt_per_line', 'stable_employment', 'high_debt_burden',\n",
       "       'fico_category_Very Poor', 'fico_category_Fair', 'fico_category_Good',\n",
       "       'fico_category_Very Good', 'fico_category_Exceptional',\n",
       "       'income_bracket_Low', 'income_bracket_Medium', 'income_bracket_High',\n",
       "       'income_bracket_Very High'],\n",
       "      dtype='object')"
      ]
     },
     "execution_count": 73,
     "metadata": {},
     "output_type": "execute_result"
    }
   ],
   "source": [
    "df.columns"
   ]
  },
  {
   "cell_type": "code",
   "execution_count": 74,
   "id": "70807179-501f-4998-907d-fae4a52a3ed6",
   "metadata": {},
   "outputs": [],
   "source": [
    "from sklearn.model_selection import train_test_split\n",
    "X = df.drop(columns = ['customer_id','default'])\n",
    "Y = df['default']\n",
    "\n",
    "# Split only into train and test (no val as the DS is small and we will use CV)\n",
    "X_train, X_test, y_train, y_test = train_test_split(X, Y, test_size=0.2, random_state=42, stratify=Y)"
   ]
  },
  {
   "cell_type": "code",
   "execution_count": 80,
   "id": "972f534c-a20e-43e3-a3f0-81024ddf373e",
   "metadata": {},
   "outputs": [],
   "source": [
    "from sklearn.model_selection import GridSearchCV\n",
    "\n",
    "#searchgin for best parameters\n",
    "param_grid = {\n",
    "    'n_estimators': [100, 200],  \n",
    "    'max_depth': [4, 6, 8],     \n",
    "    'learning_rate': [0.05, 0.1], \n",
    "    'subsample': [0.8, 1.0],     \n",
    "    'colsample_bytree': [0.8, 1.0], \n",
    "    'min_child_weight': [1],  \n",
    "} #AUC = 0.9998391643176918, {'colsample_bytree': 0.8,'gamma': 0, 'learning_rate': 0.05, 'max_depth': 4,'min_child_weight': 1,'n_estimators': 100,'subsample': 0.8}\n",
    "\n",
    "param_grid_lr_test = {\n",
    "    'learning_rate': [0.01, 0.02, 0.03],\n",
    "    'n_estimators': [200, 300, 400, 500],\n",
    "    'max_depth': [3, 4],              # Keep shallow based on your results\n",
    "    'subsample': [0.8],               # Fix at your optimal\n",
    "    'colsample_bytree': [0.8],        # Fix at your optimal\n",
    "    'min_child_weight': [1],          # Fix at your optimal\n",
    "    'gamma': [0]                       # Fix at your optimal\n",
    "} #AUC = 0.9990913612999502\n",
    "\n",
    "#would try this as well to find the BEST params but it would take 3-5 business days for my laptop to compute\n",
    "param_grid_refined = {\n",
    "    'n_estimators': [50, 100, 150, 200],      \n",
    "    'max_depth': [2, 3, 4, 5],                 \n",
    "    'learning_rate': [0.01, 0.03, 0.05, 0.08], \n",
    "    'subsample': [0.7, 0.8, 0.9],              \n",
    "    'colsample_bytree': [0.7, 0.8, 0.9],     \n",
    "    'min_child_weight': [1, 3, 5],             \n",
    "    'gamma': [0, 0.05, 0.1]                    \n",
    "}\n",
    "\n",
    "final_params = {'n_estimators': [100],      \n",
    "    'max_depth': [4],                 \n",
    "    'learning_rate': [0.05], \n",
    "    'subsample': [0.8],              \n",
    "    'colsample_bytree': [0.8],     \n",
    "    'min_child_weight': [1],             \n",
    "    'gamma': [0]                    \n",
    "}\n",
    "\n",
    "\n",
    "# Calculate class weights for imbalanced data\n",
    "scale_pos_weight = len(y_train[y_train==0]) / len(y_train[y_train==1])\n"
   ]
  },
  {
   "cell_type": "code",
   "execution_count": 81,
   "id": "0d77f7cb-37d3-4958-84c8-8d6fcc6c9753",
   "metadata": {},
   "outputs": [],
   "source": [
    "from sklearn.model_selection import cross_val_score, StratifiedKFold\n",
    "\n",
    "# Initialize model\n",
    "xgb = XGBClassifier(random_state=42, scale_pos_weight=scale_pos_weight, eval_metric='logloss')\n",
    "\n",
    "cv = StratifiedKFold(n_splits=5, shuffle=True, random_state=42)\n",
    "\n",
    "grid_search = GridSearchCV(estimator=xgb, param_grid=final_params, scoring='roc_auc', cv=cv,\n",
    "    n_jobs=-1, \n",
    "    verbose=2,\n",
    "    return_train_score=True)\n"
   ]
  },
  {
   "cell_type": "code",
   "execution_count": 83,
   "id": "a056f0c0-dee1-4169-a320-05c4a2d2ede2",
   "metadata": {},
   "outputs": [],
   "source": [
    "grid_search.fit(X_train, y_train)"
   ]
  },
  {
   "cell_type": "code",
   "execution_count": 97,
   "id": "dd50ea3b-02bf-4bc8-b4ef-697ba3b04b3d",
   "metadata": {},
   "outputs": [
    {
     "name": "stdout",
     "output_type": "stream",
     "text": [
      "Test AUC: 0.9998391643176918\n",
      "======================================================================\n",
      "Importance of the features:                   Feature  Importance\n",
      "           debt_to_income    0.453661\n",
      " credit_lines_outstanding    0.328927\n",
      "         credit_card_debt    0.042987\n",
      "       income_bracket_Low    0.038068\n",
      "           years_employed    0.020835\n",
      "        stable_employment    0.018806\n",
      "   total_debt_outstanding    0.017735\n",
      "  fico_category_Very Poor    0.015601\n",
      "               fico_score    0.011211\n",
      "                   income    0.009861\n",
      "        avg_debt_per_line    0.009492\n",
      "           loan_to_income    0.006757\n",
      "       fico_category_Fair    0.006272\n",
      "       fico_category_Good    0.006137\n",
      "     loan_amt_outstanding    0.005988\n",
      "    income_bracket_Medium    0.003681\n",
      "      income_bracket_High    0.002078\n",
      "  fico_category_Very Good    0.001904\n",
      "         high_debt_burden    0.000000\n",
      "fico_category_Exceptional    0.000000\n",
      " income_bracket_Very High    0.000000\n"
     ]
    }
   ],
   "source": [
    "params = grid_search.best_params_\n",
    "\n",
    "best_model = grid_search.best_estimator_\n",
    "\n",
    "default_probabilities = grid_search.predict_proba(X_test)[:, 1]\n",
    "\n",
    "test_auc = roc_auc_score(y_test, default_probabilities)\n",
    "\n",
    "feature_importance = pd.DataFrame({\n",
    "    'Feature': X_train.columns,\n",
    "    'Importance': best_model.feature_importances_\n",
    "}).sort_values('Importance', ascending=False)\n",
    "\n",
    "print(f\"Test AUC: {test_auc}\")\n",
    "print('='*70)\n",
    "print(f\"Importance of the features: {feature_importance.to_string(index=False)}\")"
   ]
  },
  {
   "cell_type": "code",
   "execution_count": 99,
   "id": "a49bc8c4-a04f-4eab-bb73-e295a4bb1cfc",
   "metadata": {},
   "outputs": [
    {
     "name": "stdin",
     "output_type": "stream",
     "text": [
      "Please enter the loan amount for the portfolio: 10000\n"
     ]
    },
    {
     "name": "stdout",
     "output_type": "stream",
     "text": [
      "\n",
      "Portfolio Metrics (assuming $10,000.0 loans):\n",
      "  Number of Loans: 2,000\n",
      "  Total Exposure: $20,000,000.00\n",
      "  Total Expected Loss: $3,472,561.00\n",
      "  Average Expected Loss per Loan: $1,736.28\n",
      "  Portfolio Loss Rate: 17.36%\n",
      "\n",
      "======================================================================\n",
      "RISK SEGMENTATION\n",
      "======================================================================\n",
      "                Count  Avg PD  Total Expected Loss  Actual Defaults\n",
      "Risk_Category                                                      \n",
      "Low Risk         1578  0.0050         7.068653e+04                0\n",
      "Medium Risk        33  0.1875         5.569594e+04                3\n",
      "High Risk          11  0.3858         3.819654e+04                0\n",
      "Very High Risk    378  0.9724         3.307982e+06              367\n"
     ]
    },
    {
     "name": "stderr",
     "output_type": "stream",
     "text": [
      "/var/folders/m7/3b38xcb97vq1rhp8j68wynn80000gn/T/ipykernel_75816/1186231141.py:41: FutureWarning: The default of observed=False is deprecated and will be changed to True in a future version of pandas. Pass observed=False to retain current behavior or observed=True to adopt the future default and silence this warning.\n",
      "  segment_summary = risk_segments.groupby('Risk_Category').agg({\n"
     ]
    },
    {
     "data": {
      "image/png": "[encoded data removed]",
      "text/plain": [
       "<Figure size 1400x500 with 2 Axes>"
      ]
     },
     "metadata": {},
     "output_type": "display_data"
    }
   ],
   "source": [
    "#Portfolio Analysis\n",
    "import matplotlib.pyplot as plt\n",
    "#Calculating the expected loss\n",
    "test_probabilities = best_model.predict_proba(X_test)[:, 1]\n",
    "loan_amount = float(input('Please enter the loan amount for the portfolio:'))\n",
    "recovery_rate = 0.10\n",
    "\n",
    "# Calculate expected loss for each loan\n",
    "expected_losses = loan_amount * test_probabilities * (1 - recovery_rate)\n",
    "\n",
    "# Portfolio metrics\n",
    "total_exposure = loan_amount * len(X_test)\n",
    "total_expected_loss = expected_losses.sum()\n",
    "avg_expected_loss = expected_losses.mean()\n",
    "portfolio_loss_rate = total_expected_loss / total_exposure\n",
    "\n",
    "print(f\"\\nPortfolio Metrics (assuming ${loan_amount:,} loans):\")\n",
    "print(f\"  Number of Loans: {len(X_test):,}\")\n",
    "print(f\"  Total Exposure: ${total_exposure:,.2f}\")\n",
    "print(f\"  Total Expected Loss: ${total_expected_loss:,.2f}\")\n",
    "print(f\"  Average Expected Loss per Loan: ${avg_expected_loss:,.2f}\")\n",
    "print(f\"  Portfolio Loss Rate: {portfolio_loss_rate:.2%}\")\n",
    "\n",
    "# Risk segmentation\n",
    "risk_segments = pd.DataFrame({'Probability_of_Default': test_probabilities,'Expected_Loss': expected_losses,\n",
    "    'Actual_Default': y_test.values})\n",
    "\n",
    "risk_segments['Risk_Category'] = pd.cut(risk_segments['Probability_of_Default'],bins=[0, 0.1, 0.3, 0.5, 1.0],\n",
    "    labels=['Low Risk', 'Medium Risk', 'High Risk', 'Very High Risk']\n",
    ")\n",
    "\n",
    "print(\"\\n\" + \"=\"*70)\n",
    "print(\"RISK SEGMENTATION\")\n",
    "print(\"=\"*70)\n",
    "\n",
    "segment_summary = risk_segments.groupby('Risk_Category').agg({\n",
    "    'Probability_of_Default': ['count', 'mean'],\n",
    "    'Expected_Loss': 'sum',\n",
    "    'Actual_Default': 'sum'\n",
    "}).round(4)\n",
    "\n",
    "segment_summary.columns = ['Count', 'Avg PD', 'Total Expected Loss', 'Actual Defaults']\n",
    "print(segment_summary)\n",
    "\n",
    "\n",
    "fig, axes = plt.subplots(1, 2, figsize=(14, 5))\n",
    "\n",
    "# Distribution of expected losses\n",
    "axes[0].hist(expected_losses, bins=50, edgecolor='black', alpha=0.7)\n",
    "axes[0].set_xlabel('Expected Loss ($)')\n",
    "axes[0].set_ylabel('Number of Loans')\n",
    "axes[0].set_title('Distribution of Expected Losses')\n",
    "axes[0].axvline(avg_expected_loss, color='red', linestyle='--',label=f'Mean: ${avg_expected_loss:.2f}')\n",
    "axes[0].legend()\n",
    "\n",
    "# Risk categories\n",
    "segment_summary['Count'].plot(kind='bar', ax=axes[1], color='steelblue')\n",
    "axes[1].set_xlabel('Risk Category')\n",
    "axes[1].set_ylabel('Number of Loans')\n",
    "axes[1].set_title('Loan Distribution by Risk Category')\n",
    "axes[1].tick_params(axis='x', rotation=45)\n",
    "\n",
    "plt.tight_layout()\n",
    "plt.show()"
   ]
  },
  {
   "cell_type": "code",
   "execution_count": null,
   "id": "173c4681-ec5a-4c24-b07e-8d1346613b04",
   "metadata": {},
   "outputs": [],
   "source": []
  }
 ],
 "metadata": {
  "kernelspec": {
   "display_name": "Python (tf-macos)",
   "language": "python",
   "name": "tf-macos"
  },
  "language_info": {
   "codemirror_mode": {
    "name": "ipython",
    "version": 3
   },
   "file_extension": ".py",
   "mimetype": "text/x-python",
   "name": "python",
   "nbconvert_exporter": "python",
   "pygments_lexer": "ipython3",
   "version": "3.10.18"
  }
 },
 "nbformat": 4,
 "nbformat_minor": 5
}
